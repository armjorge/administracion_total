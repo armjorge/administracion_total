{
 "cells": [
  {
   "cell_type": "markdown",
   "id": "90c7b34a-be53-4732-903e-df02693d11b5",
   "metadata": {},
   "source": [
    "# Administración total\n",
    "\n",
    "Alcanzar un objetivo a largo plazo es la consecuencia de tomar decisiones hoy que simplemente generen el patrón que proyectado en el tiempo alcanzará el objetivo. \n",
    "\n",
    "## Objetivo y descripción del proyecto. \n",
    "\n",
    "### Objetivo\n",
    "El valor agregado estará en mostrar de un modo muy simple el estado de gastos e ingresos en un widget para que los usuarios tengan la información suficiente para tomar una decisión.  \n",
    "\n",
    "### Extracción de datos. \n",
    "Los Inputs son: \n",
    "- CFDI's de nómina\n",
    "- Archivos csv del banco\n",
    "\n",
    "Los Outputs son: \n",
    "- RAW data: Dataframe de Débito con hoja meses cerrados + mes en curso.\n",
    "- RAW data: Dataframe de Crédito con hoja cortes + después del corte + MSI\n",
    "- RAW data: Dataframe Ingresos derivados de <XML>.\n",
    "\n",
    "Lo anterior es para generar la estructura a analizar. \n",
    "\n",
    "### Análisis \n",
    "- Por renglón: poder asignar dos etiquetas y notas, ambas ligadas al importe y datos críticos de la descripción.\n",
    "- Migrar los rótulos posibles cuando el gasto se pase a después del corte\n",
    "- Activamente hacer que el usuario llene el 100% de los conceptos en los dataframes fijos. \n",
    "- Por mes: calcular gasto proveniente de débito. Gasto proveniente de crédito. Ingresos.\n",
    "- Cargar a google sheet del usuario para que tengan y generen sus filtros. \n"
   ]
  },
  {
   "cell_type": "markdown",
   "id": "45011f6f-e1dc-40e7-89ab-e8326d827494",
   "metadata": {},
   "source": [
    "# Extracción de datos"
   ]
  },
  {
   "cell_type": "code",
   "execution_count": null,
   "id": "eab5f59e-80ac-473f-bb79-de214606f2e3",
   "metadata": {},
   "outputs": [],
   "source": []
  },
  {
   "cell_type": "markdown",
   "id": "5dc97410-9997-4589-adfb-7886fa16c0b3",
   "metadata": {},
   "source": [
    "# Análisis"
   ]
  },
  {
   "cell_type": "code",
   "execution_count": null,
   "id": "64574212-b1bb-40e0-8993-e50517e818d6",
   "metadata": {},
   "outputs": [],
   "source": []
  }
 ],
 "metadata": {
  "kernelspec": {
   "display_name": "Python 3 (ipykernel)",
   "language": "python",
   "name": "python3"
  },
  "language_info": {
   "codemirror_mode": {
    "name": "ipython",
    "version": 3
   },
   "file_extension": ".py",
   "mimetype": "text/x-python",
   "name": "python",
   "nbconvert_exporter": "python",
   "pygments_lexer": "ipython3",
   "version": "3.9.6"
  }
 },
 "nbformat": 4,
 "nbformat_minor": 5
}
