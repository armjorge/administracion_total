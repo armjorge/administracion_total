{
 "cells": [
  {
   "cell_type": "markdown",
   "id": "90c7b34a-be53-4732-903e-df02693d11b5",
   "metadata": {},
   "source": [
    "Carga de recursos comunes. \n",
    "Lee README.md"
   ]
  },
  {
   "cell_type": "code",
   "execution_count": 2,
   "id": "4bf90e39-ed2f-47cc-96c9-e077888fa30e",
   "metadata": {},
   "outputs": [],
   "source": [
    "# Importar librerías\n",
    "import sys\n",
    "import os\n",
    "import yaml\n",
    "import pandas as pd\n",
    "# Define la raíz\n",
    "folder_root = os.getcwd() \n",
    "script_folder = os.path.join(folder_root, \"Librería\")  # Dirección a Librería\n",
    "# Ensure the script folder is added to sys.path\n",
    "if script_folder not in sys.path:\n",
    "    sys.path.append(script_folder)\n",
    "folder_implementacion = os.path.join(folder_root, \"Implementación\")"
   ]
  },
  {
   "cell_type": "markdown",
   "id": "45011f6f-e1dc-40e7-89ab-e8326d827494",
   "metadata": {},
   "source": [
    "# Extracción de datos"
   ]
  },
  {
   "cell_type": "markdown",
   "id": "56656d27-4353-485a-a416-25cf4648e03c",
   "metadata": {
    "jp-MarkdownHeadingCollapsed": true
   },
   "source": [
    "## Ingresos"
   ]
  },
  {
   "cell_type": "code",
   "execution_count": 2,
   "id": "eab5f59e-80ac-473f-bb79-de214606f2e3",
   "metadata": {},
   "outputs": [
    {
     "name": "stdout",
     "output_type": "stream",
     "text": [
      "\tFolder Implementación encontrado.\n",
      "\tFolder CFDIs encontrado.\n"
     ]
    }
   ],
   "source": [
    "from folder_files_handling import create_directory_if_not_exists\n",
    "\n",
    "folder_CFDIs = os.path.join(folder_implementacion, \"CFDIs\")\n",
    "create_directory_if_not_exists([folder_implementacion, folder_CFDIs])"
   ]
  },
  {
   "cell_type": "code",
   "execution_count": 3,
   "id": "b284e5a0-cef8-48b7-b773-82ef5f645cb3",
   "metadata": {},
   "outputs": [
    {
     "name": "stdout",
     "output_type": "stream",
     "text": [
      "\n",
      "🗂️  Folder: CFDIs\n",
      "Total unique basenames: 4\n",
      "- RE9107Q2025-4-004-0FA: {'.pdf', '.xml'}\n",
      "- RE9107Q2025-5-004-99B: {'.pdf', '.xml'}\n",
      "- RE9107Q2025-7-004-C68: {'.pdf', '.xml'}\n",
      "- RE_9107_Quincenal_2025__004_DA8: {'.pdf', '.xml'}\n",
      "\n",
      "⚠️  Incomplete pairs:\n"
     ]
    }
   ],
   "source": [
    "from folder_files_handling import check_xlsx_pdf_pairs\n",
    "check_xlsx_pdf_pairs(folder_CFDIs)"
   ]
  },
  {
   "cell_type": "code",
   "execution_count": 4,
   "id": "64574212-b1bb-40e0-8993-e50517e818d6",
   "metadata": {},
   "outputs": [
    {
     "name": "stdout",
     "output_type": "stream",
     "text": [
      "XML estructurado: RE9107Q2025-5-004-99B.xml\n",
      "XML estructurado: RE9107Q2025-4-004-0FA.xml\n",
      "XML estructurado: RE9107Q2025-7-004-C68.xml\n",
      "XML estructurado: RE_9107_Quincenal_2025__004_DA8.xml\n",
      "\n",
      "📄 Datos extraídos:\n",
      "\tRE9107Q2025-5-004-99B.xml → Total: 164221.12, FechaPago: 2025-03-14\n",
      "\tRE9107Q2025-4-004-0FA.xml → Total: 32558.1, FechaPago: 2025-02-28\n",
      "\tRE9107Q2025-7-004-C68.xml → Total: 164221.12, FechaPago: 2025-04-15\n",
      "\tRE_9107_Quincenal_2025__004_DA8.xml → Total: 32403.85, FechaPago: 2025-04-30\n"
     ]
    }
   ],
   "source": [
    "#Da formato y extrae los XMLs\n",
    "from xml_handling import pretty_xml_files, extract_total_and_fecha_pago\n",
    "pretty_xml_files(folder_CFDIs)\n",
    "Data_from_xml = extract_total_and_fecha_pago(folder_CFDIs)\n"
   ]
  },
  {
   "cell_type": "code",
   "execution_count": 5,
   "id": "dbb1f08f-93c8-4f1a-9137-eb02df43a90d",
   "metadata": {},
   "outputs": [
    {
     "name": "stdout",
     "output_type": "stream",
     "text": [
      "                              filename      Total  FechaPago\n",
      "3  RE_9107_Quincenal_2025__004_DA8.xml   32403.85 2025-04-30\n",
      "2            RE9107Q2025-7-004-C68.xml  164221.12 2025-04-15\n",
      "0            RE9107Q2025-5-004-99B.xml  164221.12 2025-03-14\n",
      "1            RE9107Q2025-4-004-0FA.xml   32558.10 2025-02-28\n"
     ]
    }
   ],
   "source": [
    "# Convierte a dataframe\n",
    "df_extracted = pd.DataFrame(Data_from_xml)\n",
    "df_extracted['FechaPago'] = pd.to_datetime(df_extracted['FechaPago'], format = '%Y-%m-%d')\n",
    "df_extracted = df_extracted.sort_values(by='FechaPago', ascending=False)\n",
    "print(df_extracted.head())"
   ]
  },
  {
   "cell_type": "markdown",
   "id": "2bd85f02-4468-431e-9402-9622848cc965",
   "metadata": {},
   "source": [
    "## Egresos"
   ]
  },
  {
   "cell_type": "markdown",
   "id": "6010a5fa-6599-47d4-a370-dd1c74e130e9",
   "metadata": {},
   "source": [
    "### Tarjeta de crédito"
   ]
  },
  {
   "cell_type": "code",
   "execution_count": 5,
   "id": "f393082a-35e9-4a31-b1c4-804e3a5108bd",
   "metadata": {},
   "outputs": [
    {
     "name": "stdout",
     "output_type": "stream",
     "text": [
      "✅ Archivo con información cargado.\n",
      "📭 No hay archivos nuevos para registrar.\n",
      "\n",
      "📋 Vista previa de los primeros registros:\n",
      "         Fecha                                           Concepto     Abono  \\\n",
      "342 2024-11-14  MERCADO PAGO           CIUDAD DE MEX MX Refere...      0.00   \n",
      "339 2024-11-17  Podimo ApS             Koebenhavn K  DNK Refer...      0.00   \n",
      "351 2024-11-07  AMAZON MX DIGITAL      CIUDAD DE MEX MX Refere...      0.00   \n",
      "332 2024-11-27  AMAZON MX              CIUDAD DE MEX MX Refere...      0.00   \n",
      "333 2024-11-27  AMAZON MX              CIUDAD DE MEX MX Refere...      0.00   \n",
      "334 2024-11-26  MERCADO PAGO           CIUDAD DE MEX MX Refere...      0.00   \n",
      "335 2024-11-25  PAGO BANCA DIGITAL / SUCURSAL  GRACIAS. Refere...  42129.77   \n",
      "336 2024-11-20  PAGO MI TELMEX         MEXICO DF     MX Refere...      0.00   \n",
      "337 2024-11-20  AMAZON MX MARKETPLACE  CIUDAD DE MEX MX Refere...      0.00   \n",
      "338 2024-11-17  AMAZON MX A MESES M    CIUDAD DE MEX MX Refere...      0.00   \n",
      "\n",
      "       Cargo          Tarjeta   file_date  \\\n",
      "342   409.00  Titular ***3978  06/12/2024   \n",
      "339   102.25  Titular ***3978  06/12/2024   \n",
      "351   249.00  Titular ***3978  06/12/2024   \n",
      "332   293.60  Titular ***3978  06/12/2024   \n",
      "333   597.52  Titular ***3978  06/12/2024   \n",
      "334   974.25  Titular ***3978  06/12/2024   \n",
      "335     0.00  Titular ***3978  06/12/2024   \n",
      "336   568.00  Titular ***3978  06/12/2024   \n",
      "337   359.20  Titular ***3978  06/12/2024   \n",
      "338  1546.52  Titular ***3978  06/12/2024   \n",
      "\n",
      "                                             file_name  \n",
      "342  2024-12.csv__HASH__2dc5e32537f1ced40999d10571d...  \n",
      "339  2024-12.csv__HASH__2dc5e32537f1ced40999d10571d...  \n",
      "351  2024-12.csv__HASH__2dc5e32537f1ced40999d10571d...  \n",
      "332  2024-12.csv__HASH__2dc5e32537f1ced40999d10571d...  \n",
      "333  2024-12.csv__HASH__2dc5e32537f1ced40999d10571d...  \n",
      "334  2024-12.csv__HASH__2dc5e32537f1ced40999d10571d...  \n",
      "335  2024-12.csv__HASH__2dc5e32537f1ced40999d10571d...  \n",
      "336  2024-12.csv__HASH__2dc5e32537f1ced40999d10571d...  \n",
      "337  2024-12.csv__HASH__2dc5e32537f1ced40999d10571d...  \n",
      "338  2024-12.csv__HASH__2dc5e32537f1ced40999d10571d...  \n"
     ]
    }
   ],
   "source": [
    "# Después del corte\n",
    "from credit_closed import process_closed_credit_accounts, export_pickle\n",
    "\n",
    "folder_TC_al_corte = os.path.join(folder_implementacion, \"TC al corte\")\n",
    "Common_columns = ['Fecha', 'Concepto', 'Abono', 'Cargo', 'Tarjeta']\n",
    "df_readed = process_closed_credit_accounts(folder_TC_al_corte, Common_columns)\n",
    "\n",
    "choice = input(\"¿Quieres exportar la información al corte? (si/no): \").strip().lower()\n",
    "\n",
    "if choice == \"si\":\n",
    "    pickle_file = os.path.join(folder_TC_al_corte, 'pickle_database.pkl')\n",
    "    output_tc_al_corte = os.path.expanduser(\"~/Downloads/TC_al_corte.xlsx\")\n",
    "    export_pickle(pickle_file, output_tc_al_corte)"
   ]
  },
  {
   "cell_type": "code",
   "execution_count": null,
   "id": "e550a542-c337-47f4-8f00-1f7b98c64096",
   "metadata": {},
   "outputs": [],
   "source": [
    "\n"
   ]
  },
  {
   "cell_type": "code",
   "execution_count": 4,
   "id": "69cae83f-21c5-4804-a3ef-6ceb39b0dbda",
   "metadata": {},
   "outputs": [],
   "source": [
    "#"
   ]
  },
  {
   "cell_type": "code",
   "execution_count": null,
   "id": "caaa8ae5-98a0-456f-b3c8-7f1714990661",
   "metadata": {},
   "outputs": [],
   "source": [
    "# Meses sin intereses\n"
   ]
  },
  {
   "cell_type": "markdown",
   "id": "94ae5182-0bd1-48a3-b59c-0a44a4e8acae",
   "metadata": {},
   "source": [
    "### Tarjeta de débito"
   ]
  },
  {
   "cell_type": "code",
   "execution_count": null,
   "id": "db356d91-c176-49f4-ab06-f15f831e1669",
   "metadata": {},
   "outputs": [],
   "source": [
    "# Mes actual"
   ]
  },
  {
   "cell_type": "code",
   "execution_count": null,
   "id": "10086bb3-d627-4fb9-9e5b-0cbdd0d00fff",
   "metadata": {},
   "outputs": [],
   "source": [
    "# Mes previo"
   ]
  },
  {
   "cell_type": "markdown",
   "id": "5dc97410-9997-4589-adfb-7886fa16c0b3",
   "metadata": {},
   "source": [
    "# Análisis"
   ]
  },
  {
   "cell_type": "code",
   "execution_count": null,
   "id": "906bc5fc-5525-42e5-a450-99d1c07b5e5b",
   "metadata": {},
   "outputs": [],
   "source": [
    "# Crédito\n",
    "# Junta el dataframe al corte\n",
    "\n",
    "# Agrega los meses sin intereses\n",
    "\n",
    "# Agrega información después del corte"
   ]
  },
  {
   "cell_type": "code",
   "execution_count": null,
   "id": "0146cac2-5103-4949-97f5-824963f72f90",
   "metadata": {},
   "outputs": [],
   "source": [
    "# Débito\n",
    "# Junta el dataframe meses previos\n",
    "\n",
    "# Junta el dataframe mese corriente"
   ]
  },
  {
   "cell_type": "code",
   "execution_count": null,
   "id": "36dbd783-2729-49ad-b9b2-ea84fb4a71e3",
   "metadata": {},
   "outputs": [],
   "source": []
  }
 ],
 "metadata": {
  "kernelspec": {
   "display_name": "Python 3 (ipykernel)",
   "language": "python",
   "name": "python3"
  },
  "language_info": {
   "codemirror_mode": {
    "name": "ipython",
    "version": 3
   },
   "file_extension": ".py",
   "mimetype": "text/x-python",
   "name": "python",
   "nbconvert_exporter": "python",
   "pygments_lexer": "ipython3",
   "version": "3.9.6"
  }
 },
 "nbformat": 4,
 "nbformat_minor": 5
}
